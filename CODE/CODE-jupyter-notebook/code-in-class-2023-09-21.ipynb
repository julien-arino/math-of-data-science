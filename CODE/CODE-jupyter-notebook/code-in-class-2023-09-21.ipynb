{
 "cells": [
  {
   "cell_type": "markdown",
   "id": "12df1518-2076-4e31-8eef-ff561c1e283c",
   "metadata": {
    "jp-MarkdownHeadingCollapsed": true
   },
   "source": []
  },
  {
   "cell_type": "code",
   "execution_count": 1,
   "id": "f0b06b2e-f9bc-43ac-b2aa-61bfc264d0e9",
   "metadata": {},
   "outputs": [],
   "source": [
    "pop = read.csv(\"Canada_census.csv\")"
   ]
  },
  {
   "cell_type": "code",
   "execution_count": 2,
   "id": "f107d7b2-2808-45da-942a-edb049f33d32",
   "metadata": {},
   "outputs": [
    {
     "data": {
      "text/html": [
       "<table class=\"dataframe\">\n",
       "<caption>A data.frame: 23 × 3</caption>\n",
       "<thead>\n",
       "\t<tr><th scope=col>X</th><th scope=col>year</th><th scope=col>population</th></tr>\n",
       "\t<tr><th scope=col>&lt;int&gt;</th><th scope=col>&lt;int&gt;</th><th scope=col>&lt;int&gt;</th></tr>\n",
       "</thead>\n",
       "<tbody>\n",
       "\t<tr><td>  1</td><td>1851</td><td> 2436297</td></tr>\n",
       "\t<tr><td>  2</td><td>1861</td><td> 3229633</td></tr>\n",
       "\t<tr><td>  3</td><td>1871</td><td> 3689257</td></tr>\n",
       "\t<tr><td>  4</td><td>1881</td><td> 4324810</td></tr>\n",
       "\t<tr><td>  5</td><td>1891</td><td> 4833239</td></tr>\n",
       "\t<tr><td>  6</td><td>1901</td><td> 5371315</td></tr>\n",
       "\t<tr><td>  7</td><td>1911</td><td> 7206643</td></tr>\n",
       "\t<tr><td>  8</td><td>1921</td><td> 8787949</td></tr>\n",
       "\t<tr><td>  9</td><td>1931</td><td>10376786</td></tr>\n",
       "\t<tr><td> 10</td><td>1941</td><td>11506655</td></tr>\n",
       "\t<tr><td> 11</td><td>1951</td><td>14009429</td></tr>\n",
       "\t<tr><td> 12</td><td>1956</td><td>16080791</td></tr>\n",
       "\t<tr><td> 13</td><td>1961</td><td>18238247</td></tr>\n",
       "\t<tr><td> 14</td><td>1966</td><td>20014880</td></tr>\n",
       "\t<tr><td> 15</td><td>1971</td><td>21568311</td></tr>\n",
       "\t<tr><td> 16</td><td>1976</td><td>22992604</td></tr>\n",
       "\t<tr><td> 61</td><td>1981</td><td>24343000</td></tr>\n",
       "\t<tr><td> 71</td><td>1986</td><td>25309000</td></tr>\n",
       "\t<tr><td> 81</td><td>1991</td><td>27297000</td></tr>\n",
       "\t<tr><td> 91</td><td>1996</td><td>28847000</td></tr>\n",
       "\t<tr><td>101</td><td>2001</td><td>30007000</td></tr>\n",
       "\t<tr><td>111</td><td>2006</td><td>31613000</td></tr>\n",
       "\t<tr><td>121</td><td>2011</td><td>33477000</td></tr>\n",
       "</tbody>\n",
       "</table>\n"
      ],
      "text/latex": [
       "A data.frame: 23 × 3\n",
       "\\begin{tabular}{lll}\n",
       " X & year & population\\\\\n",
       " <int> & <int> & <int>\\\\\n",
       "\\hline\n",
       "\t   1 & 1851 &  2436297\\\\\n",
       "\t   2 & 1861 &  3229633\\\\\n",
       "\t   3 & 1871 &  3689257\\\\\n",
       "\t   4 & 1881 &  4324810\\\\\n",
       "\t   5 & 1891 &  4833239\\\\\n",
       "\t   6 & 1901 &  5371315\\\\\n",
       "\t   7 & 1911 &  7206643\\\\\n",
       "\t   8 & 1921 &  8787949\\\\\n",
       "\t   9 & 1931 & 10376786\\\\\n",
       "\t  10 & 1941 & 11506655\\\\\n",
       "\t  11 & 1951 & 14009429\\\\\n",
       "\t  12 & 1956 & 16080791\\\\\n",
       "\t  13 & 1961 & 18238247\\\\\n",
       "\t  14 & 1966 & 20014880\\\\\n",
       "\t  15 & 1971 & 21568311\\\\\n",
       "\t  16 & 1976 & 22992604\\\\\n",
       "\t  61 & 1981 & 24343000\\\\\n",
       "\t  71 & 1986 & 25309000\\\\\n",
       "\t  81 & 1991 & 27297000\\\\\n",
       "\t  91 & 1996 & 28847000\\\\\n",
       "\t 101 & 2001 & 30007000\\\\\n",
       "\t 111 & 2006 & 31613000\\\\\n",
       "\t 121 & 2011 & 33477000\\\\\n",
       "\\end{tabular}\n"
      ],
      "text/markdown": [
       "\n",
       "A data.frame: 23 × 3\n",
       "\n",
       "| X &lt;int&gt; | year &lt;int&gt; | population &lt;int&gt; |\n",
       "|---|---|---|\n",
       "|   1 | 1851 |  2436297 |\n",
       "|   2 | 1861 |  3229633 |\n",
       "|   3 | 1871 |  3689257 |\n",
       "|   4 | 1881 |  4324810 |\n",
       "|   5 | 1891 |  4833239 |\n",
       "|   6 | 1901 |  5371315 |\n",
       "|   7 | 1911 |  7206643 |\n",
       "|   8 | 1921 |  8787949 |\n",
       "|   9 | 1931 | 10376786 |\n",
       "|  10 | 1941 | 11506655 |\n",
       "|  11 | 1951 | 14009429 |\n",
       "|  12 | 1956 | 16080791 |\n",
       "|  13 | 1961 | 18238247 |\n",
       "|  14 | 1966 | 20014880 |\n",
       "|  15 | 1971 | 21568311 |\n",
       "|  16 | 1976 | 22992604 |\n",
       "|  61 | 1981 | 24343000 |\n",
       "|  71 | 1986 | 25309000 |\n",
       "|  81 | 1991 | 27297000 |\n",
       "|  91 | 1996 | 28847000 |\n",
       "| 101 | 2001 | 30007000 |\n",
       "| 111 | 2006 | 31613000 |\n",
       "| 121 | 2011 | 33477000 |\n",
       "\n"
      ],
      "text/plain": [
       "   X   year population\n",
       "1    1 1851  2436297  \n",
       "2    2 1861  3229633  \n",
       "3    3 1871  3689257  \n",
       "4    4 1881  4324810  \n",
       "5    5 1891  4833239  \n",
       "6    6 1901  5371315  \n",
       "7    7 1911  7206643  \n",
       "8    8 1921  8787949  \n",
       "9    9 1931 10376786  \n",
       "10  10 1941 11506655  \n",
       "11  11 1951 14009429  \n",
       "12  12 1956 16080791  \n",
       "13  13 1961 18238247  \n",
       "14  14 1966 20014880  \n",
       "15  15 1971 21568311  \n",
       "16  16 1976 22992604  \n",
       "17  61 1981 24343000  \n",
       "18  71 1986 25309000  \n",
       "19  81 1991 27297000  \n",
       "20  91 1996 28847000  \n",
       "21 101 2001 30007000  \n",
       "22 111 2006 31613000  \n",
       "23 121 2011 33477000  "
      ]
     },
     "metadata": {},
     "output_type": "display_data"
    }
   ],
   "source": [
    "pop"
   ]
  },
  {
   "cell_type": "code",
   "execution_count": 3,
   "id": "96da52a7-04b8-4c17-bda4-b588a9432411",
   "metadata": {},
   "outputs": [
    {
     "data": {
      "image/png": "[encoded data removed]",
      "text/plain": [
       "plot without title"
      ]
     },
     "metadata": {
      "image/png": {
       "height": 420,
       "width": 420
      }
     },
     "output_type": "display_data"
    }
   ],
   "source": [
    "plot(pop$year, pop$population, type = \"b\", xlab = \"Year\", ylab = \"Population\")"
   ]
  },
  {
   "cell_type": "code",
   "execution_count": 5,
   "id": "f66e4698-331d-4782-9d08-90eabf88ff0a",
   "metadata": {},
   "outputs": [
    {
     "data": {
      "text/html": [
       "<table class=\"dataframe\">\n",
       "<caption>A matrix: 23 × 1 of type int</caption>\n",
       "<tbody>\n",
       "\t<tr><td> 2436297</td></tr>\n",
       "\t<tr><td> 3229633</td></tr>\n",
       "\t<tr><td> 3689257</td></tr>\n",
       "\t<tr><td> 4324810</td></tr>\n",
       "\t<tr><td> 4833239</td></tr>\n",
       "\t<tr><td> 5371315</td></tr>\n",
       "\t<tr><td> 7206643</td></tr>\n",
       "\t<tr><td> 8787949</td></tr>\n",
       "\t<tr><td>10376786</td></tr>\n",
       "\t<tr><td>11506655</td></tr>\n",
       "\t<tr><td>14009429</td></tr>\n",
       "\t<tr><td>16080791</td></tr>\n",
       "\t<tr><td>18238247</td></tr>\n",
       "\t<tr><td>20014880</td></tr>\n",
       "\t<tr><td>21568311</td></tr>\n",
       "\t<tr><td>22992604</td></tr>\n",
       "\t<tr><td>24343000</td></tr>\n",
       "\t<tr><td>25309000</td></tr>\n",
       "\t<tr><td>27297000</td></tr>\n",
       "\t<tr><td>28847000</td></tr>\n",
       "\t<tr><td>30007000</td></tr>\n",
       "\t<tr><td>31613000</td></tr>\n",
       "\t<tr><td>33477000</td></tr>\n",
       "</tbody>\n",
       "</table>\n"
      ],
      "text/latex": [
       "A matrix: 23 × 1 of type int\n",
       "\\begin{tabular}{l}\n",
       "\t  2436297\\\\\n",
       "\t  3229633\\\\\n",
       "\t  3689257\\\\\n",
       "\t  4324810\\\\\n",
       "\t  4833239\\\\\n",
       "\t  5371315\\\\\n",
       "\t  7206643\\\\\n",
       "\t  8787949\\\\\n",
       "\t 10376786\\\\\n",
       "\t 11506655\\\\\n",
       "\t 14009429\\\\\n",
       "\t 16080791\\\\\n",
       "\t 18238247\\\\\n",
       "\t 20014880\\\\\n",
       "\t 21568311\\\\\n",
       "\t 22992604\\\\\n",
       "\t 24343000\\\\\n",
       "\t 25309000\\\\\n",
       "\t 27297000\\\\\n",
       "\t 28847000\\\\\n",
       "\t 30007000\\\\\n",
       "\t 31613000\\\\\n",
       "\t 33477000\\\\\n",
       "\\end{tabular}\n"
      ],
      "text/markdown": [
       "\n",
       "A matrix: 23 × 1 of type int\n",
       "\n",
       "|  2436297 |\n",
       "|  3229633 |\n",
       "|  3689257 |\n",
       "|  4324810 |\n",
       "|  4833239 |\n",
       "|  5371315 |\n",
       "|  7206643 |\n",
       "|  8787949 |\n",
       "| 10376786 |\n",
       "| 11506655 |\n",
       "| 14009429 |\n",
       "| 16080791 |\n",
       "| 18238247 |\n",
       "| 20014880 |\n",
       "| 21568311 |\n",
       "| 22992604 |\n",
       "| 24343000 |\n",
       "| 25309000 |\n",
       "| 27297000 |\n",
       "| 28847000 |\n",
       "| 30007000 |\n",
       "| 31613000 |\n",
       "| 33477000 |\n",
       "\n"
      ],
      "text/plain": [
       "      [,1]    \n",
       " [1,]  2436297\n",
       " [2,]  3229633\n",
       " [3,]  3689257\n",
       " [4,]  4324810\n",
       " [5,]  4833239\n",
       " [6,]  5371315\n",
       " [7,]  7206643\n",
       " [8,]  8787949\n",
       " [9,] 10376786\n",
       "[10,] 11506655\n",
       "[11,] 14009429\n",
       "[12,] 16080791\n",
       "[13,] 18238247\n",
       "[14,] 20014880\n",
       "[15,] 21568311\n",
       "[16,] 22992604\n",
       "[17,] 24343000\n",
       "[18,] 25309000\n",
       "[19,] 27297000\n",
       "[20,] 28847000\n",
       "[21,] 30007000\n",
       "[22,] 31613000\n",
       "[23,] 33477000"
      ]
     },
     "metadata": {},
     "output_type": "display_data"
    }
   ],
   "source": [
    "y = matrix(data = pop$population, nc = 1)\n",
    "y"
   ]
  },
  {
   "cell_type": "code",
   "execution_count": 6,
   "id": "fa5ebb56-fd99-46a3-ab1f-f07bdf3bef2e",
   "metadata": {},
   "outputs": [
    {
     "data": {
      "text/html": [
       "<table class=\"dataframe\">\n",
       "<caption>A matrix: 23 × 2 of type dbl</caption>\n",
       "<tbody>\n",
       "\t<tr><td>1</td><td>1851</td></tr>\n",
       "\t<tr><td>1</td><td>1861</td></tr>\n",
       "\t<tr><td>1</td><td>1871</td></tr>\n",
       "\t<tr><td>1</td><td>1881</td></tr>\n",
       "\t<tr><td>1</td><td>1891</td></tr>\n",
       "\t<tr><td>1</td><td>1901</td></tr>\n",
       "\t<tr><td>1</td><td>1911</td></tr>\n",
       "\t<tr><td>1</td><td>1921</td></tr>\n",
       "\t<tr><td>1</td><td>1931</td></tr>\n",
       "\t<tr><td>1</td><td>1941</td></tr>\n",
       "\t<tr><td>1</td><td>1951</td></tr>\n",
       "\t<tr><td>1</td><td>1956</td></tr>\n",
       "\t<tr><td>1</td><td>1961</td></tr>\n",
       "\t<tr><td>1</td><td>1966</td></tr>\n",
       "\t<tr><td>1</td><td>1971</td></tr>\n",
       "\t<tr><td>1</td><td>1976</td></tr>\n",
       "\t<tr><td>1</td><td>1981</td></tr>\n",
       "\t<tr><td>1</td><td>1986</td></tr>\n",
       "\t<tr><td>1</td><td>1991</td></tr>\n",
       "\t<tr><td>1</td><td>1996</td></tr>\n",
       "\t<tr><td>1</td><td>2001</td></tr>\n",
       "\t<tr><td>1</td><td>2006</td></tr>\n",
       "\t<tr><td>1</td><td>2011</td></tr>\n",
       "</tbody>\n",
       "</table>\n"
      ],
      "text/latex": [
       "A matrix: 23 × 2 of type dbl\n",
       "\\begin{tabular}{ll}\n",
       "\t 1 & 1851\\\\\n",
       "\t 1 & 1861\\\\\n",
       "\t 1 & 1871\\\\\n",
       "\t 1 & 1881\\\\\n",
       "\t 1 & 1891\\\\\n",
       "\t 1 & 1901\\\\\n",
       "\t 1 & 1911\\\\\n",
       "\t 1 & 1921\\\\\n",
       "\t 1 & 1931\\\\\n",
       "\t 1 & 1941\\\\\n",
       "\t 1 & 1951\\\\\n",
       "\t 1 & 1956\\\\\n",
       "\t 1 & 1961\\\\\n",
       "\t 1 & 1966\\\\\n",
       "\t 1 & 1971\\\\\n",
       "\t 1 & 1976\\\\\n",
       "\t 1 & 1981\\\\\n",
       "\t 1 & 1986\\\\\n",
       "\t 1 & 1991\\\\\n",
       "\t 1 & 1996\\\\\n",
       "\t 1 & 2001\\\\\n",
       "\t 1 & 2006\\\\\n",
       "\t 1 & 2011\\\\\n",
       "\\end{tabular}\n"
      ],
      "text/markdown": [
       "\n",
       "A matrix: 23 × 2 of type dbl\n",
       "\n",
       "| 1 | 1851 |\n",
       "| 1 | 1861 |\n",
       "| 1 | 1871 |\n",
       "| 1 | 1881 |\n",
       "| 1 | 1891 |\n",
       "| 1 | 1901 |\n",
       "| 1 | 1911 |\n",
       "| 1 | 1921 |\n",
       "| 1 | 1931 |\n",
       "| 1 | 1941 |\n",
       "| 1 | 1951 |\n",
       "| 1 | 1956 |\n",
       "| 1 | 1961 |\n",
       "| 1 | 1966 |\n",
       "| 1 | 1971 |\n",
       "| 1 | 1976 |\n",
       "| 1 | 1981 |\n",
       "| 1 | 1986 |\n",
       "| 1 | 1991 |\n",
       "| 1 | 1996 |\n",
       "| 1 | 2001 |\n",
       "| 1 | 2006 |\n",
       "| 1 | 2011 |\n",
       "\n"
      ],
      "text/plain": [
       "      [,1] [,2]\n",
       " [1,] 1    1851\n",
       " [2,] 1    1861\n",
       " [3,] 1    1871\n",
       " [4,] 1    1881\n",
       " [5,] 1    1891\n",
       " [6,] 1    1901\n",
       " [7,] 1    1911\n",
       " [8,] 1    1921\n",
       " [9,] 1    1931\n",
       "[10,] 1    1941\n",
       "[11,] 1    1951\n",
       "[12,] 1    1956\n",
       "[13,] 1    1961\n",
       "[14,] 1    1966\n",
       "[15,] 1    1971\n",
       "[16,] 1    1976\n",
       "[17,] 1    1981\n",
       "[18,] 1    1986\n",
       "[19,] 1    1991\n",
       "[20,] 1    1996\n",
       "[21,] 1    2001\n",
       "[22,] 1    2006\n",
       "[23,] 1    2011"
      ]
     },
     "metadata": {},
     "output_type": "display_data"
    }
   ],
   "source": [
    "A = matrix(data = c(rep(1, dim(pop)[1]),\n",
    "                    pop$year),\n",
    "           nc = 2)\n",
    "A"
   ]
  },
  {
   "cell_type": "code",
   "execution_count": 10,
   "id": "4980bb71-5c03-4a59-96be-e2912195acf7",
   "metadata": {},
   "outputs": [
    {
     "data": {
      "text/html": [
       "<table class=\"dataframe\">\n",
       "<caption>A matrix: 2 × 2 of type dbl</caption>\n",
       "<tbody>\n",
       "\t<tr><td>   23</td><td>   44713</td></tr>\n",
       "\t<tr><td>44713</td><td>86977653</td></tr>\n",
       "</tbody>\n",
       "</table>\n"
      ],
      "text/latex": [
       "A matrix: 2 × 2 of type dbl\n",
       "\\begin{tabular}{ll}\n",
       "\t    23 &    44713\\\\\n",
       "\t 44713 & 86977653\\\\\n",
       "\\end{tabular}\n"
      ],
      "text/markdown": [
       "\n",
       "A matrix: 2 × 2 of type dbl\n",
       "\n",
       "|    23 |    44713 |\n",
       "| 44713 | 86977653 |\n",
       "\n"
      ],
      "text/plain": [
       "     [,1]  [,2]    \n",
       "[1,]    23    44713\n",
       "[2,] 44713 86977653"
      ]
     },
     "metadata": {},
     "output_type": "display_data"
    }
   ],
   "source": [
    "ATA = t(A) %*% A\n",
    "ATA"
   ]
  },
  {
   "cell_type": "code",
   "execution_count": 11,
   "id": "5106888d-251f-4765-875c-18b5ce5a9416",
   "metadata": {},
   "outputs": [
    {
     "data": {
      "text/html": [
       "1233649.99999985"
      ],
      "text/latex": [
       "1233649.99999985"
      ],
      "text/markdown": [
       "1233649.99999985"
      ],
      "text/plain": [
       "[1] 1233650"
      ]
     },
     "metadata": {},
     "output_type": "display_data"
    }
   ],
   "source": [
    "det(ATA)"
   ]
  },
  {
   "cell_type": "code",
   "execution_count": 13,
   "id": "20ef9625-e05d-4950-988d-2fb2dd5af51b",
   "metadata": {},
   "outputs": [
    {
     "data": {
      "text/html": [
       "<table class=\"dataframe\">\n",
       "<caption>A matrix: 2 × 2 of type dbl</caption>\n",
       "<tbody>\n",
       "\t<tr><td>70.50431889</td><td>-3.624448e-02</td></tr>\n",
       "\t<tr><td>-0.03624448</td><td> 1.864386e-05</td></tr>\n",
       "</tbody>\n",
       "</table>\n"
      ],
      "text/latex": [
       "A matrix: 2 × 2 of type dbl\n",
       "\\begin{tabular}{ll}\n",
       "\t 70.50431889 & -3.624448e-02\\\\\n",
       "\t -0.03624448 &  1.864386e-05\\\\\n",
       "\\end{tabular}\n"
      ],
      "text/markdown": [
       "\n",
       "A matrix: 2 × 2 of type dbl\n",
       "\n",
       "| 70.50431889 | -3.624448e-02 |\n",
       "| -0.03624448 |  1.864386e-05 |\n",
       "\n"
      ],
      "text/plain": [
       "     [,1]        [,2]         \n",
       "[1,] 70.50431889 -3.624448e-02\n",
       "[2,] -0.03624448  1.864386e-05"
      ]
     },
     "metadata": {},
     "output_type": "display_data"
    }
   ],
   "source": [
    "invATA = solve(ATA)\n",
    "invATA"
   ]
  },
  {
   "cell_type": "code",
   "execution_count": 15,
   "id": "12d2dfec-f93b-4b37-b574-7a7580440ea9",
   "metadata": {},
   "outputs": [
    {
     "data": {
      "text/html": [
       "<table class=\"dataframe\">\n",
       "<caption>A matrix: 2 × 1 of type dbl</caption>\n",
       "<tbody>\n",
       "\t<tr><td>   375559846</td></tr>\n",
       "\t<tr><td>740974995011</td></tr>\n",
       "</tbody>\n",
       "</table>\n"
      ],
      "text/latex": [
       "A matrix: 2 × 1 of type dbl\n",
       "\\begin{tabular}{l}\n",
       "\t    375559846\\\\\n",
       "\t 740974995011\\\\\n",
       "\\end{tabular}\n"
      ],
      "text/markdown": [
       "\n",
       "A matrix: 2 × 1 of type dbl\n",
       "\n",
       "|    375559846 |\n",
       "| 740974995011 |\n",
       "\n"
      ],
      "text/plain": [
       "     [,1]        \n",
       "[1,]    375559846\n",
       "[2,] 740974995011"
      ]
     },
     "metadata": {},
     "output_type": "display_data"
    }
   ],
   "source": [
    "ATy = t(A) %*% y\n",
    "ATy"
   ]
  },
  {
   "cell_type": "code",
   "execution_count": 18,
   "id": "e61f3d50-14a6-44d8-ba2e-c330fc4633b8",
   "metadata": {},
   "outputs": [
    {
     "data": {
      "text/html": [
       "<table class=\"dataframe\">\n",
       "<caption>A matrix: 2 × 1 of type dbl</caption>\n",
       "<tbody>\n",
       "\t<tr><td>-377660589.2</td></tr>\n",
       "\t<tr><td>    202664.8</td></tr>\n",
       "</tbody>\n",
       "</table>\n"
      ],
      "text/latex": [
       "A matrix: 2 × 1 of type dbl\n",
       "\\begin{tabular}{l}\n",
       "\t -377660589.2\\\\\n",
       "\t     202664.8\\\\\n",
       "\\end{tabular}\n"
      ],
      "text/markdown": [
       "\n",
       "A matrix: 2 × 1 of type dbl\n",
       "\n",
       "| -377660589.2 |\n",
       "|     202664.8 |\n",
       "\n"
      ],
      "text/plain": [
       "     [,1]        \n",
       "[1,] -377660589.2\n",
       "[2,]     202664.8"
      ]
     },
     "metadata": {},
     "output_type": "display_data"
    }
   ],
   "source": [
    "sol = invATA %*% ATy\n",
    "sol"
   ]
  },
  {
   "cell_type": "code",
   "execution_count": 19,
   "id": "a0609265-1090-4a31-a254-0b6f59e26ac1",
   "metadata": {},
   "outputs": [
    {
     "data": {
      "image/png": "[encoded data removed]",
      "text/plain": [
       "plot without title"
      ]
     },
     "metadata": {
      "image/png": {
       "height": 420,
       "width": 420
      }
     },
     "output_type": "display_data"
    }
   ],
   "source": [
    "plot(pop$year, pop$population, type = \"b\", xlab = \"Year\", ylab = \"Population\")\n",
    "lines(pop$year, sol[1]+sol[2]*pop$year, type = \"l\", col = \"red\", lwd = 3)"
   ]
  },
  {
   "cell_type": "code",
   "execution_count": 20,
   "id": "707d7f6e-e17b-446d-ba63-006bf84f9da8",
   "metadata": {},
   "outputs": [
    {
     "data": {
      "text/html": [
       "<table class=\"dataframe\">\n",
       "<caption>A matrix: 23 × 3 of type dbl</caption>\n",
       "<tbody>\n",
       "\t<tr><td>1</td><td>1851</td><td>3426201</td></tr>\n",
       "\t<tr><td>1</td><td>1861</td><td>3463321</td></tr>\n",
       "\t<tr><td>1</td><td>1871</td><td>3500641</td></tr>\n",
       "\t<tr><td>1</td><td>1881</td><td>3538161</td></tr>\n",
       "\t<tr><td>1</td><td>1891</td><td>3575881</td></tr>\n",
       "\t<tr><td>1</td><td>1901</td><td>3613801</td></tr>\n",
       "\t<tr><td>1</td><td>1911</td><td>3651921</td></tr>\n",
       "\t<tr><td>1</td><td>1921</td><td>3690241</td></tr>\n",
       "\t<tr><td>1</td><td>1931</td><td>3728761</td></tr>\n",
       "\t<tr><td>1</td><td>1941</td><td>3767481</td></tr>\n",
       "\t<tr><td>1</td><td>1951</td><td>3806401</td></tr>\n",
       "\t<tr><td>1</td><td>1956</td><td>3825936</td></tr>\n",
       "\t<tr><td>1</td><td>1961</td><td>3845521</td></tr>\n",
       "\t<tr><td>1</td><td>1966</td><td>3865156</td></tr>\n",
       "\t<tr><td>1</td><td>1971</td><td>3884841</td></tr>\n",
       "\t<tr><td>1</td><td>1976</td><td>3904576</td></tr>\n",
       "\t<tr><td>1</td><td>1981</td><td>3924361</td></tr>\n",
       "\t<tr><td>1</td><td>1986</td><td>3944196</td></tr>\n",
       "\t<tr><td>1</td><td>1991</td><td>3964081</td></tr>\n",
       "\t<tr><td>1</td><td>1996</td><td>3984016</td></tr>\n",
       "\t<tr><td>1</td><td>2001</td><td>4004001</td></tr>\n",
       "\t<tr><td>1</td><td>2006</td><td>4024036</td></tr>\n",
       "\t<tr><td>1</td><td>2011</td><td>4044121</td></tr>\n",
       "</tbody>\n",
       "</table>\n"
      ],
      "text/latex": [
       "A matrix: 23 × 3 of type dbl\n",
       "\\begin{tabular}{lll}\n",
       "\t 1 & 1851 & 3426201\\\\\n",
       "\t 1 & 1861 & 3463321\\\\\n",
       "\t 1 & 1871 & 3500641\\\\\n",
       "\t 1 & 1881 & 3538161\\\\\n",
       "\t 1 & 1891 & 3575881\\\\\n",
       "\t 1 & 1901 & 3613801\\\\\n",
       "\t 1 & 1911 & 3651921\\\\\n",
       "\t 1 & 1921 & 3690241\\\\\n",
       "\t 1 & 1931 & 3728761\\\\\n",
       "\t 1 & 1941 & 3767481\\\\\n",
       "\t 1 & 1951 & 3806401\\\\\n",
       "\t 1 & 1956 & 3825936\\\\\n",
       "\t 1 & 1961 & 3845521\\\\\n",
       "\t 1 & 1966 & 3865156\\\\\n",
       "\t 1 & 1971 & 3884841\\\\\n",
       "\t 1 & 1976 & 3904576\\\\\n",
       "\t 1 & 1981 & 3924361\\\\\n",
       "\t 1 & 1986 & 3944196\\\\\n",
       "\t 1 & 1991 & 3964081\\\\\n",
       "\t 1 & 1996 & 3984016\\\\\n",
       "\t 1 & 2001 & 4004001\\\\\n",
       "\t 1 & 2006 & 4024036\\\\\n",
       "\t 1 & 2011 & 4044121\\\\\n",
       "\\end{tabular}\n"
      ],
      "text/markdown": [
       "\n",
       "A matrix: 23 × 3 of type dbl\n",
       "\n",
       "| 1 | 1851 | 3426201 |\n",
       "| 1 | 1861 | 3463321 |\n",
       "| 1 | 1871 | 3500641 |\n",
       "| 1 | 1881 | 3538161 |\n",
       "| 1 | 1891 | 3575881 |\n",
       "| 1 | 1901 | 3613801 |\n",
       "| 1 | 1911 | 3651921 |\n",
       "| 1 | 1921 | 3690241 |\n",
       "| 1 | 1931 | 3728761 |\n",
       "| 1 | 1941 | 3767481 |\n",
       "| 1 | 1951 | 3806401 |\n",
       "| 1 | 1956 | 3825936 |\n",
       "| 1 | 1961 | 3845521 |\n",
       "| 1 | 1966 | 3865156 |\n",
       "| 1 | 1971 | 3884841 |\n",
       "| 1 | 1976 | 3904576 |\n",
       "| 1 | 1981 | 3924361 |\n",
       "| 1 | 1986 | 3944196 |\n",
       "| 1 | 1991 | 3964081 |\n",
       "| 1 | 1996 | 3984016 |\n",
       "| 1 | 2001 | 4004001 |\n",
       "| 1 | 2006 | 4024036 |\n",
       "| 1 | 2011 | 4044121 |\n",
       "\n"
      ],
      "text/plain": [
       "      [,1] [,2] [,3]   \n",
       " [1,] 1    1851 3426201\n",
       " [2,] 1    1861 3463321\n",
       " [3,] 1    1871 3500641\n",
       " [4,] 1    1881 3538161\n",
       " [5,] 1    1891 3575881\n",
       " [6,] 1    1901 3613801\n",
       " [7,] 1    1911 3651921\n",
       " [8,] 1    1921 3690241\n",
       " [9,] 1    1931 3728761\n",
       "[10,] 1    1941 3767481\n",
       "[11,] 1    1951 3806401\n",
       "[12,] 1    1956 3825936\n",
       "[13,] 1    1961 3845521\n",
       "[14,] 1    1966 3865156\n",
       "[15,] 1    1971 3884841\n",
       "[16,] 1    1976 3904576\n",
       "[17,] 1    1981 3924361\n",
       "[18,] 1    1986 3944196\n",
       "[19,] 1    1991 3964081\n",
       "[20,] 1    1996 3984016\n",
       "[21,] 1    2001 4004001\n",
       "[22,] 1    2006 4024036\n",
       "[23,] 1    2011 4044121"
      ]
     },
     "metadata": {},
     "output_type": "display_data"
    }
   ],
   "source": [
    "B = matrix(data = c(rep(1, dim(pop)[1]),\n",
    "                    pop$year,\n",
    "                   pop$year^2),\n",
    "           nc = 3)\n",
    "B"
   ]
  },
  {
   "cell_type": "code",
   "execution_count": 22,
   "id": "00ed9157-85c0-4c95-9928-62c577109160",
   "metadata": {},
   "outputs": [
    {
     "data": {
      "text/html": [
       "<table class=\"dataframe\">\n",
       "<caption>A matrix: 3 × 3 of type dbl</caption>\n",
       "<tbody>\n",
       "\t<tr><td>      23</td><td>       44713</td><td>8.697765e+07</td></tr>\n",
       "\t<tr><td>   44713</td><td>    86977653</td><td>1.692957e+11</td></tr>\n",
       "\t<tr><td>86977653</td><td>169295746843</td><td>3.297200e+14</td></tr>\n",
       "</tbody>\n",
       "</table>\n"
      ],
      "text/latex": [
       "A matrix: 3 × 3 of type dbl\n",
       "\\begin{tabular}{lll}\n",
       "\t       23 &        44713 & 8.697765e+07\\\\\n",
       "\t    44713 &     86977653 & 1.692957e+11\\\\\n",
       "\t 86977653 & 169295746843 & 3.297200e+14\\\\\n",
       "\\end{tabular}\n"
      ],
      "text/markdown": [
       "\n",
       "A matrix: 3 × 3 of type dbl\n",
       "\n",
       "|       23 |        44713 | 8.697765e+07 |\n",
       "|    44713 |     86977653 | 1.692957e+11 |\n",
       "| 86977653 | 169295746843 | 3.297200e+14 |\n",
       "\n"
      ],
      "text/plain": [
       "     [,1]     [,2]         [,3]        \n",
       "[1,]       23        44713 8.697765e+07\n",
       "[2,]    44713     86977653 1.692957e+11\n",
       "[3,] 86977653 169295746843 3.297200e+14"
      ]
     },
     "metadata": {},
     "output_type": "display_data"
    }
   ],
   "source": [
    "BTB = t(B) %*% B\n",
    "BTB"
   ]
  },
  {
   "cell_type": "code",
   "execution_count": 23,
   "id": "a796968f-c5e9-4e99-b65e-fa5d305c93ac",
   "metadata": {},
   "outputs": [
    {
     "data": {
      "text/html": [
       "116944268982442"
      ],
      "text/latex": [
       "116944268982442"
      ],
      "text/markdown": [
       "116944268982442"
      ],
      "text/plain": [
       "[1] 1.169443e+14"
      ]
     },
     "metadata": {},
     "output_type": "display_data"
    }
   ],
   "source": [
    "det(BTB)"
   ]
  },
  {
   "cell_type": "code",
   "execution_count": 24,
   "id": "af77f7d1-aede-4ef0-aeec-eb3b7a8f3903",
   "metadata": {},
   "outputs": [
    {
     "ename": "ERROR",
     "evalue": "Error in solve.default(BTB): system is computationally singular: reciprocal condition number = 2.05592e-20\n",
     "output_type": "error",
     "traceback": [
      "Error in solve.default(BTB): system is computationally singular: reciprocal condition number = 2.05592e-20\nTraceback:\n",
      "1. solve(BTB)",
      "2. solve.default(BTB)"
     ]
    }
   ],
   "source": [
    "invBTB = solve(BTB)"
   ]
  },
  {
   "cell_type": "code",
   "execution_count": 26,
   "id": "a7edc60e-9d4d-4961-bf5b-94c2555a840d",
   "metadata": {},
   "outputs": [
    {
     "data": {
      "text/html": [
       "<style>\n",
       ".list-inline {list-style: none; margin:0; padding: 0}\n",
       ".list-inline>li {display: inline-block}\n",
       ".list-inline>li:not(:last-child)::after {content: \"\\00b7\"; padding: 0 .5ex}\n",
       "</style>\n",
       "<ol class=list-inline><li>1851</li><li>1861</li><li>1871</li><li>1881</li><li>1891</li><li>1901</li><li>1911</li><li>1921</li><li>1931</li><li>1941</li><li>1951</li><li>1956</li><li>1961</li><li>1966</li><li>1971</li><li>1976</li><li>1981</li><li>1986</li><li>1991</li><li>1996</li><li>2001</li><li>2006</li><li>2011</li></ol>\n"
      ],
      "text/latex": [
       "\\begin{enumerate*}\n",
       "\\item 1851\n",
       "\\item 1861\n",
       "\\item 1871\n",
       "\\item 1881\n",
       "\\item 1891\n",
       "\\item 1901\n",
       "\\item 1911\n",
       "\\item 1921\n",
       "\\item 1931\n",
       "\\item 1941\n",
       "\\item 1951\n",
       "\\item 1956\n",
       "\\item 1961\n",
       "\\item 1966\n",
       "\\item 1971\n",
       "\\item 1976\n",
       "\\item 1981\n",
       "\\item 1986\n",
       "\\item 1991\n",
       "\\item 1996\n",
       "\\item 2001\n",
       "\\item 2006\n",
       "\\item 2011\n",
       "\\end{enumerate*}\n"
      ],
      "text/markdown": [
       "1. 1851\n",
       "2. 1861\n",
       "3. 1871\n",
       "4. 1881\n",
       "5. 1891\n",
       "6. 1901\n",
       "7. 1911\n",
       "8. 1921\n",
       "9. 1931\n",
       "10. 1941\n",
       "11. 1951\n",
       "12. 1956\n",
       "13. 1961\n",
       "14. 1966\n",
       "15. 1971\n",
       "16. 1976\n",
       "17. 1981\n",
       "18. 1986\n",
       "19. 1991\n",
       "20. 1996\n",
       "21. 2001\n",
       "22. 2006\n",
       "23. 2011\n",
       "\n",
       "\n"
      ],
      "text/plain": [
       " [1] 1851 1861 1871 1881 1891 1901 1911 1921 1931 1941 1951 1956 1961 1966 1971\n",
       "[16] 1976 1981 1986 1991 1996 2001 2006 2011"
      ]
     },
     "metadata": {},
     "output_type": "display_data"
    }
   ],
   "source": [
    "pop$year"
   ]
  },
  {
   "cell_type": "code",
   "execution_count": 27,
   "id": "6fb93d9f-d0ee-4cbd-a3c4-be912c27814c",
   "metadata": {},
   "outputs": [
    {
     "data": {
      "text/html": [
       "<style>\n",
       ".list-inline {list-style: none; margin:0; padding: 0}\n",
       ".list-inline>li {display: inline-block}\n",
       ".list-inline>li:not(:last-child)::after {content: \"\\00b7\"; padding: 0 .5ex}\n",
       "</style>\n",
       "<ol class=list-inline><li>0</li><li>10</li><li>20</li><li>30</li><li>40</li><li>50</li><li>60</li><li>70</li><li>80</li><li>90</li><li>100</li><li>105</li><li>110</li><li>115</li><li>120</li><li>125</li><li>130</li><li>135</li><li>140</li><li>145</li><li>150</li><li>155</li><li>160</li></ol>\n"
      ],
      "text/latex": [
       "\\begin{enumerate*}\n",
       "\\item 0\n",
       "\\item 10\n",
       "\\item 20\n",
       "\\item 30\n",
       "\\item 40\n",
       "\\item 50\n",
       "\\item 60\n",
       "\\item 70\n",
       "\\item 80\n",
       "\\item 90\n",
       "\\item 100\n",
       "\\item 105\n",
       "\\item 110\n",
       "\\item 115\n",
       "\\item 120\n",
       "\\item 125\n",
       "\\item 130\n",
       "\\item 135\n",
       "\\item 140\n",
       "\\item 145\n",
       "\\item 150\n",
       "\\item 155\n",
       "\\item 160\n",
       "\\end{enumerate*}\n"
      ],
      "text/markdown": [
       "1. 0\n",
       "2. 10\n",
       "3. 20\n",
       "4. 30\n",
       "5. 40\n",
       "6. 50\n",
       "7. 60\n",
       "8. 70\n",
       "9. 80\n",
       "10. 90\n",
       "11. 100\n",
       "12. 105\n",
       "13. 110\n",
       "14. 115\n",
       "15. 120\n",
       "16. 125\n",
       "17. 130\n",
       "18. 135\n",
       "19. 140\n",
       "20. 145\n",
       "21. 150\n",
       "22. 155\n",
       "23. 160\n",
       "\n",
       "\n"
      ],
      "text/plain": [
       " [1]   0  10  20  30  40  50  60  70  80  90 100 105 110 115 120 125 130 135 140\n",
       "[20] 145 150 155 160"
      ]
     },
     "metadata": {},
     "output_type": "display_data"
    }
   ],
   "source": [
    "years = pop$year-min(pop$year)\n",
    "years"
   ]
  },
  {
   "cell_type": "code",
   "execution_count": 29,
   "id": "bc1b4f1f-9fd5-45b4-bb84-7d29a4615350",
   "metadata": {},
   "outputs": [
    {
     "data": {
      "text/html": [
       "<table class=\"dataframe\">\n",
       "<caption>A matrix: 23 × 3 of type dbl</caption>\n",
       "<tbody>\n",
       "\t<tr><td>1</td><td>  0</td><td>    0</td></tr>\n",
       "\t<tr><td>1</td><td> 10</td><td>  100</td></tr>\n",
       "\t<tr><td>1</td><td> 20</td><td>  400</td></tr>\n",
       "\t<tr><td>1</td><td> 30</td><td>  900</td></tr>\n",
       "\t<tr><td>1</td><td> 40</td><td> 1600</td></tr>\n",
       "\t<tr><td>1</td><td> 50</td><td> 2500</td></tr>\n",
       "\t<tr><td>1</td><td> 60</td><td> 3600</td></tr>\n",
       "\t<tr><td>1</td><td> 70</td><td> 4900</td></tr>\n",
       "\t<tr><td>1</td><td> 80</td><td> 6400</td></tr>\n",
       "\t<tr><td>1</td><td> 90</td><td> 8100</td></tr>\n",
       "\t<tr><td>1</td><td>100</td><td>10000</td></tr>\n",
       "\t<tr><td>1</td><td>105</td><td>11025</td></tr>\n",
       "\t<tr><td>1</td><td>110</td><td>12100</td></tr>\n",
       "\t<tr><td>1</td><td>115</td><td>13225</td></tr>\n",
       "\t<tr><td>1</td><td>120</td><td>14400</td></tr>\n",
       "\t<tr><td>1</td><td>125</td><td>15625</td></tr>\n",
       "\t<tr><td>1</td><td>130</td><td>16900</td></tr>\n",
       "\t<tr><td>1</td><td>135</td><td>18225</td></tr>\n",
       "\t<tr><td>1</td><td>140</td><td>19600</td></tr>\n",
       "\t<tr><td>1</td><td>145</td><td>21025</td></tr>\n",
       "\t<tr><td>1</td><td>150</td><td>22500</td></tr>\n",
       "\t<tr><td>1</td><td>155</td><td>24025</td></tr>\n",
       "\t<tr><td>1</td><td>160</td><td>25600</td></tr>\n",
       "</tbody>\n",
       "</table>\n"
      ],
      "text/latex": [
       "A matrix: 23 × 3 of type dbl\n",
       "\\begin{tabular}{lll}\n",
       "\t 1 &   0 &     0\\\\\n",
       "\t 1 &  10 &   100\\\\\n",
       "\t 1 &  20 &   400\\\\\n",
       "\t 1 &  30 &   900\\\\\n",
       "\t 1 &  40 &  1600\\\\\n",
       "\t 1 &  50 &  2500\\\\\n",
       "\t 1 &  60 &  3600\\\\\n",
       "\t 1 &  70 &  4900\\\\\n",
       "\t 1 &  80 &  6400\\\\\n",
       "\t 1 &  90 &  8100\\\\\n",
       "\t 1 & 100 & 10000\\\\\n",
       "\t 1 & 105 & 11025\\\\\n",
       "\t 1 & 110 & 12100\\\\\n",
       "\t 1 & 115 & 13225\\\\\n",
       "\t 1 & 120 & 14400\\\\\n",
       "\t 1 & 125 & 15625\\\\\n",
       "\t 1 & 130 & 16900\\\\\n",
       "\t 1 & 135 & 18225\\\\\n",
       "\t 1 & 140 & 19600\\\\\n",
       "\t 1 & 145 & 21025\\\\\n",
       "\t 1 & 150 & 22500\\\\\n",
       "\t 1 & 155 & 24025\\\\\n",
       "\t 1 & 160 & 25600\\\\\n",
       "\\end{tabular}\n"
      ],
      "text/markdown": [
       "\n",
       "A matrix: 23 × 3 of type dbl\n",
       "\n",
       "| 1 |   0 |     0 |\n",
       "| 1 |  10 |   100 |\n",
       "| 1 |  20 |   400 |\n",
       "| 1 |  30 |   900 |\n",
       "| 1 |  40 |  1600 |\n",
       "| 1 |  50 |  2500 |\n",
       "| 1 |  60 |  3600 |\n",
       "| 1 |  70 |  4900 |\n",
       "| 1 |  80 |  6400 |\n",
       "| 1 |  90 |  8100 |\n",
       "| 1 | 100 | 10000 |\n",
       "| 1 | 105 | 11025 |\n",
       "| 1 | 110 | 12100 |\n",
       "| 1 | 115 | 13225 |\n",
       "| 1 | 120 | 14400 |\n",
       "| 1 | 125 | 15625 |\n",
       "| 1 | 130 | 16900 |\n",
       "| 1 | 135 | 18225 |\n",
       "| 1 | 140 | 19600 |\n",
       "| 1 | 145 | 21025 |\n",
       "| 1 | 150 | 22500 |\n",
       "| 1 | 155 | 24025 |\n",
       "| 1 | 160 | 25600 |\n",
       "\n"
      ],
      "text/plain": [
       "      [,1] [,2] [,3] \n",
       " [1,] 1      0      0\n",
       " [2,] 1     10    100\n",
       " [3,] 1     20    400\n",
       " [4,] 1     30    900\n",
       " [5,] 1     40   1600\n",
       " [6,] 1     50   2500\n",
       " [7,] 1     60   3600\n",
       " [8,] 1     70   4900\n",
       " [9,] 1     80   6400\n",
       "[10,] 1     90   8100\n",
       "[11,] 1    100  10000\n",
       "[12,] 1    105  11025\n",
       "[13,] 1    110  12100\n",
       "[14,] 1    115  13225\n",
       "[15,] 1    120  14400\n",
       "[16,] 1    125  15625\n",
       "[17,] 1    130  16900\n",
       "[18,] 1    135  18225\n",
       "[19,] 1    140  19600\n",
       "[20,] 1    145  21025\n",
       "[21,] 1    150  22500\n",
       "[22,] 1    155  24025\n",
       "[23,] 1    160  25600"
      ]
     },
     "metadata": {},
     "output_type": "display_data"
    }
   ],
   "source": [
    "C = matrix(data = c(rep(1, dim(pop)[1]),\n",
    "                    years,\n",
    "                   years^2),\n",
    "           nc = 3)\n",
    "C"
   ]
  },
  {
   "cell_type": "code",
   "execution_count": 31,
   "id": "4dd1093e-bd9a-4f90-b314-60382316a34d",
   "metadata": {},
   "outputs": [
    {
     "data": {
      "text/html": [
       "<table class=\"dataframe\">\n",
       "<caption>A matrix: 3 × 3 of type dbl</caption>\n",
       "<tbody>\n",
       "\t<tr><td> 4.046823e-01</td><td>-9.304410e-03</td><td> 4.590997e-05</td></tr>\n",
       "\t<tr><td>-9.304410e-03</td><td> 3.054304e-04</td><td>-1.739346e-06</td></tr>\n",
       "\t<tr><td> 4.590997e-05</td><td>-1.739346e-06</td><td> 1.054904e-08</td></tr>\n",
       "</tbody>\n",
       "</table>\n"
      ],
      "text/latex": [
       "A matrix: 3 × 3 of type dbl\n",
       "\\begin{tabular}{lll}\n",
       "\t  4.046823e-01 & -9.304410e-03 &  4.590997e-05\\\\\n",
       "\t -9.304410e-03 &  3.054304e-04 & -1.739346e-06\\\\\n",
       "\t  4.590997e-05 & -1.739346e-06 &  1.054904e-08\\\\\n",
       "\\end{tabular}\n"
      ],
      "text/markdown": [
       "\n",
       "A matrix: 3 × 3 of type dbl\n",
       "\n",
       "|  4.046823e-01 | -9.304410e-03 |  4.590997e-05 |\n",
       "| -9.304410e-03 |  3.054304e-04 | -1.739346e-06 |\n",
       "|  4.590997e-05 | -1.739346e-06 |  1.054904e-08 |\n",
       "\n"
      ],
      "text/plain": [
       "     [,1]          [,2]          [,3]         \n",
       "[1,]  4.046823e-01 -9.304410e-03  4.590997e-05\n",
       "[2,] -9.304410e-03  3.054304e-04 -1.739346e-06\n",
       "[3,]  4.590997e-05 -1.739346e-06  1.054904e-08"
      ]
     },
     "metadata": {},
     "output_type": "display_data"
    }
   ],
   "source": [
    "invCTC = solve(t(C) %*% C)\n",
    "invCTC"
   ]
  },
  {
   "cell_type": "code",
   "execution_count": 33,
   "id": "155c3379-ec0c-401a-8938-cb6b43f2bc7e",
   "metadata": {},
   "outputs": [
    {
     "data": {
      "text/html": [
       "<table class=\"dataframe\">\n",
       "<caption>A matrix: 3 × 1 of type dbl</caption>\n",
       "<tbody>\n",
       "\t<tr><td>3.755598e+08</td></tr>\n",
       "\t<tr><td>4.581372e+10</td></tr>\n",
       "\t<tr><td>6.033934e+12</td></tr>\n",
       "</tbody>\n",
       "</table>\n"
      ],
      "text/latex": [
       "A matrix: 3 × 1 of type dbl\n",
       "\\begin{tabular}{l}\n",
       "\t 3.755598e+08\\\\\n",
       "\t 4.581372e+10\\\\\n",
       "\t 6.033934e+12\\\\\n",
       "\\end{tabular}\n"
      ],
      "text/markdown": [
       "\n",
       "A matrix: 3 × 1 of type dbl\n",
       "\n",
       "| 3.755598e+08 |\n",
       "| 4.581372e+10 |\n",
       "| 6.033934e+12 |\n",
       "\n"
      ],
      "text/plain": [
       "     [,1]        \n",
       "[1,] 3.755598e+08\n",
       "[2,] 4.581372e+10\n",
       "[3,] 6.033934e+12"
      ]
     },
     "metadata": {},
     "output_type": "display_data"
    }
   ],
   "source": [
    "CTy = t(C) %*% y\n",
    "CTy"
   ]
  },
  {
   "cell_type": "code",
   "execution_count": 35,
   "id": "dc5076b8-59aa-4cdd-98ea-6d3063170b27",
   "metadata": {},
   "outputs": [
    {
     "data": {
      "text/html": [
       "<table class=\"dataframe\">\n",
       "<caption>A matrix: 3 × 1 of type dbl</caption>\n",
       "<tbody>\n",
       "\t<tr><td>2730500.544</td></tr>\n",
       "\t<tr><td>   3442.989</td></tr>\n",
       "\t<tr><td>   1208.270</td></tr>\n",
       "</tbody>\n",
       "</table>\n"
      ],
      "text/latex": [
       "A matrix: 3 × 1 of type dbl\n",
       "\\begin{tabular}{l}\n",
       "\t 2730500.544\\\\\n",
       "\t    3442.989\\\\\n",
       "\t    1208.270\\\\\n",
       "\\end{tabular}\n"
      ],
      "text/markdown": [
       "\n",
       "A matrix: 3 × 1 of type dbl\n",
       "\n",
       "| 2730500.544 |\n",
       "|    3442.989 |\n",
       "|    1208.270 |\n",
       "\n"
      ],
      "text/plain": [
       "     [,1]       \n",
       "[1,] 2730500.544\n",
       "[2,]    3442.989\n",
       "[3,]    1208.270"
      ]
     },
     "metadata": {},
     "output_type": "display_data"
    }
   ],
   "source": [
    "sol2 = invCTC %*% CTy\n",
    "solve(t(C) %*% C, t(C) %*% y)"
   ]
  },
  {
   "cell_type": "code",
   "execution_count": 37,
   "id": "5428dee6-f848-4e2d-99b8-ed84800fade1",
   "metadata": {},
   "outputs": [
    {
     "data": {
      "image/png": "[encoded data removed]",
      "text/plain": [
       "plot without title"
      ]
     },
     "metadata": {
      "image/png": {
       "height": 420,
       "width": 420
      }
     },
     "output_type": "display_data"
    }
   ],
   "source": [
    "plot(pop$year, pop$population, type = \"b\", xlab = \"Year\", ylab = \"Population\")\n",
    "lines(pop$year, sol[1]+sol[2]*pop$year, type = \"l\", col = \"red\", lwd = 3)\n",
    "lines(pop$year, sol2[1]+sol2[2]*years+sol2[3]*years^2, type = \"l\", col = \"blue\", lwd = 3)"
   ]
  },
  {
   "cell_type": "code",
   "execution_count": 38,
   "id": "89285634-7651-48ec-af38-97f28f60ad08",
   "metadata": {},
   "outputs": [
    {
     "data": {
      "text/html": [
       "<table class=\"dataframe\">\n",
       "<caption>A matrix: 23 × 4 of type dbl</caption>\n",
       "<tbody>\n",
       "\t<tr><td>1</td><td>  0</td><td>    0</td><td>      0</td></tr>\n",
       "\t<tr><td>1</td><td> 10</td><td>  100</td><td>   1000</td></tr>\n",
       "\t<tr><td>1</td><td> 20</td><td>  400</td><td>   8000</td></tr>\n",
       "\t<tr><td>1</td><td> 30</td><td>  900</td><td>  27000</td></tr>\n",
       "\t<tr><td>1</td><td> 40</td><td> 1600</td><td>  64000</td></tr>\n",
       "\t<tr><td>1</td><td> 50</td><td> 2500</td><td> 125000</td></tr>\n",
       "\t<tr><td>1</td><td> 60</td><td> 3600</td><td> 216000</td></tr>\n",
       "\t<tr><td>1</td><td> 70</td><td> 4900</td><td> 343000</td></tr>\n",
       "\t<tr><td>1</td><td> 80</td><td> 6400</td><td> 512000</td></tr>\n",
       "\t<tr><td>1</td><td> 90</td><td> 8100</td><td> 729000</td></tr>\n",
       "\t<tr><td>1</td><td>100</td><td>10000</td><td>1000000</td></tr>\n",
       "\t<tr><td>1</td><td>105</td><td>11025</td><td>1157625</td></tr>\n",
       "\t<tr><td>1</td><td>110</td><td>12100</td><td>1331000</td></tr>\n",
       "\t<tr><td>1</td><td>115</td><td>13225</td><td>1520875</td></tr>\n",
       "\t<tr><td>1</td><td>120</td><td>14400</td><td>1728000</td></tr>\n",
       "\t<tr><td>1</td><td>125</td><td>15625</td><td>1953125</td></tr>\n",
       "\t<tr><td>1</td><td>130</td><td>16900</td><td>2197000</td></tr>\n",
       "\t<tr><td>1</td><td>135</td><td>18225</td><td>2460375</td></tr>\n",
       "\t<tr><td>1</td><td>140</td><td>19600</td><td>2744000</td></tr>\n",
       "\t<tr><td>1</td><td>145</td><td>21025</td><td>3048625</td></tr>\n",
       "\t<tr><td>1</td><td>150</td><td>22500</td><td>3375000</td></tr>\n",
       "\t<tr><td>1</td><td>155</td><td>24025</td><td>3723875</td></tr>\n",
       "\t<tr><td>1</td><td>160</td><td>25600</td><td>4096000</td></tr>\n",
       "</tbody>\n",
       "</table>\n"
      ],
      "text/latex": [
       "A matrix: 23 × 4 of type dbl\n",
       "\\begin{tabular}{llll}\n",
       "\t 1 &   0 &     0 &       0\\\\\n",
       "\t 1 &  10 &   100 &    1000\\\\\n",
       "\t 1 &  20 &   400 &    8000\\\\\n",
       "\t 1 &  30 &   900 &   27000\\\\\n",
       "\t 1 &  40 &  1600 &   64000\\\\\n",
       "\t 1 &  50 &  2500 &  125000\\\\\n",
       "\t 1 &  60 &  3600 &  216000\\\\\n",
       "\t 1 &  70 &  4900 &  343000\\\\\n",
       "\t 1 &  80 &  6400 &  512000\\\\\n",
       "\t 1 &  90 &  8100 &  729000\\\\\n",
       "\t 1 & 100 & 10000 & 1000000\\\\\n",
       "\t 1 & 105 & 11025 & 1157625\\\\\n",
       "\t 1 & 110 & 12100 & 1331000\\\\\n",
       "\t 1 & 115 & 13225 & 1520875\\\\\n",
       "\t 1 & 120 & 14400 & 1728000\\\\\n",
       "\t 1 & 125 & 15625 & 1953125\\\\\n",
       "\t 1 & 130 & 16900 & 2197000\\\\\n",
       "\t 1 & 135 & 18225 & 2460375\\\\\n",
       "\t 1 & 140 & 19600 & 2744000\\\\\n",
       "\t 1 & 145 & 21025 & 3048625\\\\\n",
       "\t 1 & 150 & 22500 & 3375000\\\\\n",
       "\t 1 & 155 & 24025 & 3723875\\\\\n",
       "\t 1 & 160 & 25600 & 4096000\\\\\n",
       "\\end{tabular}\n"
      ],
      "text/markdown": [
       "\n",
       "A matrix: 23 × 4 of type dbl\n",
       "\n",
       "| 1 |   0 |     0 |       0 |\n",
       "| 1 |  10 |   100 |    1000 |\n",
       "| 1 |  20 |   400 |    8000 |\n",
       "| 1 |  30 |   900 |   27000 |\n",
       "| 1 |  40 |  1600 |   64000 |\n",
       "| 1 |  50 |  2500 |  125000 |\n",
       "| 1 |  60 |  3600 |  216000 |\n",
       "| 1 |  70 |  4900 |  343000 |\n",
       "| 1 |  80 |  6400 |  512000 |\n",
       "| 1 |  90 |  8100 |  729000 |\n",
       "| 1 | 100 | 10000 | 1000000 |\n",
       "| 1 | 105 | 11025 | 1157625 |\n",
       "| 1 | 110 | 12100 | 1331000 |\n",
       "| 1 | 115 | 13225 | 1520875 |\n",
       "| 1 | 120 | 14400 | 1728000 |\n",
       "| 1 | 125 | 15625 | 1953125 |\n",
       "| 1 | 130 | 16900 | 2197000 |\n",
       "| 1 | 135 | 18225 | 2460375 |\n",
       "| 1 | 140 | 19600 | 2744000 |\n",
       "| 1 | 145 | 21025 | 3048625 |\n",
       "| 1 | 150 | 22500 | 3375000 |\n",
       "| 1 | 155 | 24025 | 3723875 |\n",
       "| 1 | 160 | 25600 | 4096000 |\n",
       "\n"
      ],
      "text/plain": [
       "      [,1] [,2] [,3]  [,4]   \n",
       " [1,] 1      0      0       0\n",
       " [2,] 1     10    100    1000\n",
       " [3,] 1     20    400    8000\n",
       " [4,] 1     30    900   27000\n",
       " [5,] 1     40   1600   64000\n",
       " [6,] 1     50   2500  125000\n",
       " [7,] 1     60   3600  216000\n",
       " [8,] 1     70   4900  343000\n",
       " [9,] 1     80   6400  512000\n",
       "[10,] 1     90   8100  729000\n",
       "[11,] 1    100  10000 1000000\n",
       "[12,] 1    105  11025 1157625\n",
       "[13,] 1    110  12100 1331000\n",
       "[14,] 1    115  13225 1520875\n",
       "[15,] 1    120  14400 1728000\n",
       "[16,] 1    125  15625 1953125\n",
       "[17,] 1    130  16900 2197000\n",
       "[18,] 1    135  18225 2460375\n",
       "[19,] 1    140  19600 2744000\n",
       "[20,] 1    145  21025 3048625\n",
       "[21,] 1    150  22500 3375000\n",
       "[22,] 1    155  24025 3723875\n",
       "[23,] 1    160  25600 4096000"
      ]
     },
     "metadata": {},
     "output_type": "display_data"
    }
   ],
   "source": [
    "D = matrix(data = c(rep(1, dim(pop)[1]),\n",
    "                    years,\n",
    "                   years^2,\n",
    "                   years^3),\n",
    "           nc = 4)\n",
    "D"
   ]
  },
  {
   "cell_type": "code",
   "execution_count": 42,
   "id": "40b471b6-5ea7-4301-b732-dc3e283a2873",
   "metadata": {},
   "outputs": [
    {
     "data": {
      "text/html": [
       "<table class=\"dataframe\">\n",
       "<caption>A matrix: 4 × 1 of type dbl</caption>\n",
       "<tbody>\n",
       "\t<tr><td> 3.227795e+06</td></tr>\n",
       "\t<tr><td>-3.823148e+04</td></tr>\n",
       "\t<tr><td> 1.847533e+03</td></tr>\n",
       "\t<tr><td>-2.590445e+00</td></tr>\n",
       "</tbody>\n",
       "</table>\n"
      ],
      "text/latex": [
       "A matrix: 4 × 1 of type dbl\n",
       "\\begin{tabular}{l}\n",
       "\t  3.227795e+06\\\\\n",
       "\t -3.823148e+04\\\\\n",
       "\t  1.847533e+03\\\\\n",
       "\t -2.590445e+00\\\\\n",
       "\\end{tabular}\n"
      ],
      "text/markdown": [
       "\n",
       "A matrix: 4 × 1 of type dbl\n",
       "\n",
       "|  3.227795e+06 |\n",
       "| -3.823148e+04 |\n",
       "|  1.847533e+03 |\n",
       "| -2.590445e+00 |\n",
       "\n"
      ],
      "text/plain": [
       "     [,1]         \n",
       "[1,]  3.227795e+06\n",
       "[2,] -3.823148e+04\n",
       "[3,]  1.847533e+03\n",
       "[4,] -2.590445e+00"
      ]
     },
     "metadata": {},
     "output_type": "display_data"
    }
   ],
   "source": [
    "sol3 = solve(t(D) %*% D, t(D) %*% y)\n",
    "sol3"
   ]
  },
  {
   "cell_type": "code",
   "execution_count": 43,
   "id": "d62677a4-93c9-49c6-af6e-4be0db743e01",
   "metadata": {},
   "outputs": [
    {
     "data": {
      "image/png": "[encoded data removed]",
      "text/plain": [
       "plot without title"
      ]
     },
     "metadata": {
      "image/png": {
       "height": 420,
       "width": 420
      }
     },
     "output_type": "display_data"
    }
   ],
   "source": [
    "plot(pop$year, pop$population, type = \"b\", xlab = \"Year\", ylab = \"Population\")\n",
    "lines(pop$year, sol[1]+sol[2]*pop$year, type = \"l\", col = \"red\", lwd = 3)\n",
    "lines(pop$year, sol2[1]+sol2[2]*years+sol2[3]*years^2, type = \"l\", col = \"blue\", lwd = 3)\n",
    "lines(pop$year, sol3[1]+sol3[2]*years+sol3[3]*years^2+sol3[4]*years^3, type = \"l\", col = \"green\", lwd = 3)"
   ]
  },
  {
   "cell_type": "code",
   "execution_count": 49,
   "id": "bbe046bd-4179-4ffc-9099-33f98bd4dbb7",
   "metadata": {},
   "outputs": [
    {
     "data": {
      "text/html": [
       "<strong>(Intercept):</strong> -377660589.150413"
      ],
      "text/latex": [
       "\\textbf{(Intercept):} -377660589.150413"
      ],
      "text/markdown": [
       "**(Intercept):** -377660589.150413"
      ],
      "text/plain": [
       "(Intercept) \n",
       " -377660589 "
      ]
     },
     "metadata": {},
     "output_type": "display_data"
    }
   ],
   "source": [
    "sol5 = lm(population ~ year, pop)\n",
    "sol5$coefficients[1]"
   ]
  },
  {
   "cell_type": "code",
   "execution_count": 62,
   "id": "8d264bbd-79fd-408c-aefa-5fff1e85a4da",
   "metadata": {},
   "outputs": [
    {
     "data": {
      "text/html": [
       "<style>\n",
       ".list-inline {list-style: none; margin:0; padding: 0}\n",
       ".list-inline>li {display: inline-block}\n",
       ".list-inline>li:not(:last-child)::after {content: \"\\00b7\"; padding: 0 .5ex}\n",
       "</style>\n",
       "<ol class=list-inline><li>-2527953.52215117</li><li>33477000</li></ol>\n"
      ],
      "text/latex": [
       "\\begin{enumerate*}\n",
       "\\item -2527953.52215117\n",
       "\\item 33477000\n",
       "\\end{enumerate*}\n"
      ],
      "text/markdown": [
       "1. -2527953.52215117\n",
       "2. 33477000\n",
       "\n",
       "\n"
      ],
      "text/plain": [
       "[1] -2527954 33477000"
      ]
     },
     "metadata": {},
     "output_type": "display_data"
    }
   ],
   "source": [
    "y2 =sol[1]+sol[2]*pop$year\n",
    "ylim = c(range(y2)[1], max(pop$population))\n",
    "ylim"
   ]
  },
  {
   "cell_type": "code",
   "execution_count": 63,
   "id": "cee7ffce-2bcd-419a-8f9f-81035ed13271",
   "metadata": {},
   "outputs": [
    {
     "data": {
      "image/png": "[encoded data removed]",
      "text/plain": [
       "plot without title"
      ]
     },
     "metadata": {
      "image/png": {
       "height": 420,
       "width": 420
      }
     },
     "output_type": "display_data"
    }
   ],
   "source": [
    "plot(pop$year, pop$population, type = \"b\", xlab = \"Year\", ylab = \"Population\", ylim = ylim)\n",
    "lines(pop$year, sol[1]+sol[2]*pop$year, type = \"l\", col = \"red\", lwd = 3)\n",
    "lines(pop$year, sol2[1]+sol2[2]*years+sol2[3]*years^2, type = \"l\", col = \"blue\", lwd = 3)\n",
    "lines(pop$year, sol3[1]+sol3[2]*years+sol3[3]*years^2+sol3[4]*years^3, type = \"l\", col = \"green\", lwd = 3)\n",
    "lines(pop$year, as.numeric(sol5$coefficients[1]) + as.numeric(sol5$coefficients[2])* pop$year, type = \"l\", col = \"dodgerblue4\", lwd = 3)"
   ]
  },
  {
   "cell_type": "code",
   "execution_count": 65,
   "id": "d1a24ea3-8581-4bd1-a652-bf6e624d01e0",
   "metadata": {},
   "outputs": [
    {
     "data": {
      "text/html": [
       "<style>\n",
       ".list-inline {list-style: none; margin:0; padding: 0}\n",
       ".list-inline>li {display: inline-block}\n",
       ".list-inline>li:not(:last-child)::after {content: \"\\00b7\"; padding: 0 .5ex}\n",
       "</style>\n",
       "<ol class=list-inline><li>&lt;NA&gt;</li><li>&lt;NA&gt;</li><li>&lt;NA&gt;</li><li>&lt;NA&gt;</li><li>&lt;NA&gt;</li><li>&lt;NA&gt;</li><li>&lt;NA&gt;</li><li>&lt;NA&gt;</li><li>&lt;NA&gt;</li><li>&lt;NA&gt;</li><li>&lt;NA&gt;</li><li>&lt;NA&gt;</li><li>&lt;NA&gt;</li><li>&lt;NA&gt;</li><li>&lt;NA&gt;</li><li>&lt;NA&gt;</li><li>&lt;NA&gt;</li><li>&lt;NA&gt;</li><li>&lt;NA&gt;</li><li>&lt;NA&gt;</li><li>&lt;NA&gt;</li><li>&lt;NA&gt;</li><li>&lt;NA&gt;</li></ol>\n"
      ],
      "text/latex": [
       "\\begin{enumerate*}\n",
       "\\item <NA>\n",
       "\\item <NA>\n",
       "\\item <NA>\n",
       "\\item <NA>\n",
       "\\item <NA>\n",
       "\\item <NA>\n",
       "\\item <NA>\n",
       "\\item <NA>\n",
       "\\item <NA>\n",
       "\\item <NA>\n",
       "\\item <NA>\n",
       "\\item <NA>\n",
       "\\item <NA>\n",
       "\\item <NA>\n",
       "\\item <NA>\n",
       "\\item <NA>\n",
       "\\item <NA>\n",
       "\\item <NA>\n",
       "\\item <NA>\n",
       "\\item <NA>\n",
       "\\item <NA>\n",
       "\\item <NA>\n",
       "\\item <NA>\n",
       "\\end{enumerate*}\n"
      ],
      "text/markdown": [
       "1. &lt;NA&gt;\n",
       "2. &lt;NA&gt;\n",
       "3. &lt;NA&gt;\n",
       "4. &lt;NA&gt;\n",
       "5. &lt;NA&gt;\n",
       "6. &lt;NA&gt;\n",
       "7. &lt;NA&gt;\n",
       "8. &lt;NA&gt;\n",
       "9. &lt;NA&gt;\n",
       "10. &lt;NA&gt;\n",
       "11. &lt;NA&gt;\n",
       "12. &lt;NA&gt;\n",
       "13. &lt;NA&gt;\n",
       "14. &lt;NA&gt;\n",
       "15. &lt;NA&gt;\n",
       "16. &lt;NA&gt;\n",
       "17. &lt;NA&gt;\n",
       "18. &lt;NA&gt;\n",
       "19. &lt;NA&gt;\n",
       "20. &lt;NA&gt;\n",
       "21. &lt;NA&gt;\n",
       "22. &lt;NA&gt;\n",
       "23. &lt;NA&gt;\n",
       "\n",
       "\n"
      ],
      "text/plain": [
       " [1] NA NA NA NA NA NA NA NA NA NA NA NA NA NA NA NA NA NA NA NA NA NA NA"
      ]
     },
     "metadata": {},
     "output_type": "display_data"
    }
   ],
   "source": [
    "sol3[1]+sol3[2]*years+sol3[3]*years^2+sol3[5]*years^3"
   ]
  }
 ],
 "metadata": {
  "kernelspec": {
   "display_name": "R",
   "language": "R",
   "name": "ir"
  },
  "language_info": {
   "codemirror_mode": "r",
   "file_extension": ".r",
   "mimetype": "text/x-r-source",
   "name": "R",
   "pygments_lexer": "r",
   "version": "4.3.0"
  }
 },
 "nbformat": 4,
 "nbformat_minor": 5
}
