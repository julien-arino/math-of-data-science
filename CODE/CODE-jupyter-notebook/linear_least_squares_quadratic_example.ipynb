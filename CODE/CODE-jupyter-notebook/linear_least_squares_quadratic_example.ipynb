{
 "cells": [
  {
   "cell_type": "code",
   "execution_count": 31,
   "id": "e48a02b7",
   "metadata": {},
   "outputs": [
    {
     "data": {
      "image/png": "[encoded data removed]",
      "text/plain": [
       "plot without title"
      ]
     },
     "metadata": {
      "image/png": {
       "height": 420,
       "width": 420
      }
     },
     "output_type": "display_data"
    }
   ],
   "source": [
    "points = list()\n",
    "points$x = c(1,2,3)\n",
    "points$y = c(3,5,4) # So the points are (1,3), (2,5) and (3,4)\n",
    "plot(points$x, points$y, \n",
    "     pch = 19, cex = 2, bty = \"n\",\n",
    "    xlim = c(0, 3.5), ylim = c(0,6), xlab = \"x\", ylab = \"y\")"
   ]
  },
  {
   "cell_type": "markdown",
   "id": "70875f4b",
   "metadata": {},
   "source": [
    "Recall that the points are (1,3), (2,5) and (3,4). Let us fit $y=a_0+a_1x+a_2x^2$. The matrix $A$ takes the form\n",
    "$$\n",
    "A=\\begin{pmatrix}\n",
    "1 & x_1 & x_1^2 \\\\\n",
    "\\vdots & \\vdots & \\vdots \\\\\n",
    "1 & x_n & x_n^2\n",
    "\\end{pmatrix}\n",
    "$$\n",
    "$b$ takes the form\n",
    "$$\n",
    "b=\\begin{pmatrix}\n",
    "y_1 \\\\ \\vdots \\\\ y_n\n",
    "\\end{pmatrix}\n",
    "$$"
   ]
  },
  {
   "cell_type": "code",
   "execution_count": 32,
   "id": "3b1cb9f5",
   "metadata": {
    "scrolled": true
   },
   "outputs": [
    {
     "data": {
      "text/html": [
       "<table class=\"dataframe\">\n",
       "<caption>A matrix: 3 × 3 of type dbl</caption>\n",
       "<tbody>\n",
       "\t<tr><td>1</td><td>1</td><td>1</td></tr>\n",
       "\t<tr><td>1</td><td>2</td><td>4</td></tr>\n",
       "\t<tr><td>1</td><td>3</td><td>9</td></tr>\n",
       "</tbody>\n",
       "</table>\n"
      ],
      "text/latex": [
       "A matrix: 3 × 3 of type dbl\n",
       "\\begin{tabular}{lll}\n",
       "\t 1 & 1 & 1\\\\\n",
       "\t 1 & 2 & 4\\\\\n",
       "\t 1 & 3 & 9\\\\\n",
       "\\end{tabular}\n"
      ],
      "text/markdown": [
       "\n",
       "A matrix: 3 × 3 of type dbl\n",
       "\n",
       "| 1 | 1 | 1 |\n",
       "| 1 | 2 | 4 |\n",
       "| 1 | 3 | 9 |\n",
       "\n"
      ],
      "text/plain": [
       "     [,1] [,2] [,3]\n",
       "[1,] 1    1    1   \n",
       "[2,] 1    2    4   \n",
       "[3,] 1    3    9   "
      ]
     },
     "metadata": {},
     "output_type": "display_data"
    },
    {
     "data": {
      "text/html": [
       "<table class=\"dataframe\">\n",
       "<caption>A matrix: 3 × 1 of type dbl</caption>\n",
       "<tbody>\n",
       "\t<tr><td>3</td></tr>\n",
       "\t<tr><td>5</td></tr>\n",
       "\t<tr><td>4</td></tr>\n",
       "</tbody>\n",
       "</table>\n"
      ],
      "text/latex": [
       "A matrix: 3 × 1 of type dbl\n",
       "\\begin{tabular}{l}\n",
       "\t 3\\\\\n",
       "\t 5\\\\\n",
       "\t 4\\\\\n",
       "\\end{tabular}\n"
      ],
      "text/markdown": [
       "\n",
       "A matrix: 3 × 1 of type dbl\n",
       "\n",
       "| 3 |\n",
       "| 5 |\n",
       "| 4 |\n",
       "\n"
      ],
      "text/plain": [
       "     [,1]\n",
       "[1,] 3   \n",
       "[2,] 5   \n",
       "[3,] 4   "
      ]
     },
     "metadata": {},
     "output_type": "display_data"
    }
   ],
   "source": [
    "A = matrix(c(1,1,1,1,2,3,1,4,9), nr = 3, nc = 3)\n",
    "b = matrix(c(3,5,4))\n",
    "A\n",
    "b"
   ]
  },
  {
   "cell_type": "code",
   "execution_count": 35,
   "id": "237334be",
   "metadata": {},
   "outputs": [
    {
     "data": {
      "text/html": [
       "4.00000000000011"
      ],
      "text/latex": [
       "4.00000000000011"
      ],
      "text/markdown": [
       "4.00000000000011"
      ],
      "text/plain": [
       "[1] 4"
      ]
     },
     "metadata": {},
     "output_type": "display_data"
    }
   ],
   "source": [
    "det(t(A) %*% A)"
   ]
  },
  {
   "cell_type": "markdown",
   "id": "80c7f127",
   "metadata": {},
   "source": [
    "$(A^TA)^{-1}A^Tb$"
   ]
  },
  {
   "cell_type": "code",
   "execution_count": 38,
   "id": "a06d6132",
   "metadata": {
    "scrolled": true
   },
   "outputs": [
    {
     "data": {
      "text/html": [
       "<table class=\"dataframe\">\n",
       "<caption>A matrix: 3 × 1 of type dbl</caption>\n",
       "<tbody>\n",
       "\t<tr><td>-2.0</td></tr>\n",
       "\t<tr><td> 6.5</td></tr>\n",
       "\t<tr><td>-1.5</td></tr>\n",
       "</tbody>\n",
       "</table>\n"
      ],
      "text/latex": [
       "A matrix: 3 × 1 of type dbl\n",
       "\\begin{tabular}{l}\n",
       "\t -2.0\\\\\n",
       "\t  6.5\\\\\n",
       "\t -1.5\\\\\n",
       "\\end{tabular}\n"
      ],
      "text/markdown": [
       "\n",
       "A matrix: 3 × 1 of type dbl\n",
       "\n",
       "| -2.0 |\n",
       "|  6.5 |\n",
       "| -1.5 |\n",
       "\n"
      ],
      "text/plain": [
       "     [,1]\n",
       "[1,] -2.0\n",
       "[2,]  6.5\n",
       "[3,] -1.5"
      ]
     },
     "metadata": {},
     "output_type": "display_data"
    }
   ],
   "source": [
    "sol = solve(t(A) %*% A) %*% t(A) %*% b\n",
    "sol"
   ]
  },
  {
   "cell_type": "code",
   "execution_count": 43,
   "id": "029cc824",
   "metadata": {},
   "outputs": [
    {
     "data": {
      "image/png": "[encoded data removed]",
      "text/plain": [
       "plot without title"
      ]
     },
     "metadata": {
      "image/png": {
       "height": 420,
       "width": 420
      }
     },
     "output_type": "display_data"
    }
   ],
   "source": [
    "f_q = function(x, sol) {\n",
    "    return(sol[1]+sol[2]*x+sol[3]*x^2)\n",
    "}\n",
    "plot(points$x, points$y, \n",
    "     pch = 19, cex = 2, bty = \"n\",\n",
    "    xlim = c(0, 3.5), ylim = c(0,6), xlab = \"x\", ylab = \"y\")\n",
    "x = seq(0.5, 3.5, 0.01)\n",
    "lines(x, f_q(x, sol))"
   ]
  },
  {
   "cell_type": "code",
   "execution_count": 45,
   "id": "5ad8c8da",
   "metadata": {},
   "outputs": [
    {
     "data": {
      "text/html": [
       "<style>\n",
       ".list-inline {list-style: none; margin:0; padding: 0}\n",
       ".list-inline>li {display: inline-block}\n",
       ".list-inline>li:not(:last-child)::after {content: \"\\00b7\"; padding: 0 .5ex}\n",
       "</style>\n",
       "<ol class=list-inline><li>3.00000000000008</li><li>4.99999999999996</li><li>3.99999999999993</li></ol>\n"
      ],
      "text/latex": [
       "\\begin{enumerate*}\n",
       "\\item 3.00000000000008\n",
       "\\item 4.99999999999996\n",
       "\\item 3.99999999999993\n",
       "\\end{enumerate*}\n"
      ],
      "text/markdown": [
       "1. 3.00000000000008\n",
       "2. 4.99999999999996\n",
       "3. 3.99999999999993\n",
       "\n",
       "\n"
      ],
      "text/plain": [
       "[1] 3 5 4"
      ]
     },
     "metadata": {},
     "output_type": "display_data"
    }
   ],
   "source": [
    "x = 1:3\n",
    "f_q(x, sol)"
   ]
  }
 ],
 "metadata": {
  "kernelspec": {
   "display_name": "R",
   "language": "R",
   "name": "ir"
  },
  "language_info": {
   "codemirror_mode": "r",
   "file_extension": ".r",
   "mimetype": "text/x-r-source",
   "name": "R",
   "pygments_lexer": "r",
   "version": "4.1.2"
  }
 },
 "nbformat": 4,
 "nbformat_minor": 5
}
